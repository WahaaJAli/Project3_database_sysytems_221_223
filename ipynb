# This Python 3 environment comes with many helpful analytics libraries installed
# It is defined by the kaggle/python Docker image: https://github.com/kaggle/docker-python # For example, here's several helpful packages to load

import numpy as np # linear algebra
import pandas as pd # data processing, CSV file I/O (e.g. pd.read_csv)

# Input data files are available in the read-only "../input/" directory
# For example, running this (by clicking run or pressing Shift+Enter) will list all files und

import os
for dirname, _, filenames in os.walk('/kaggle/input'): for filename in filenames:
print(os.path.join(dirname, filename))

# You can write up to 20GB to the current directory (/kaggle/working/) that gets preserved as # You can also write temporary files to /kaggle/temp/, but they won't be saved outside of the
from google.cloud import bigquery # Create a "Client" object
client = bigquery.Client()

# Construct a reference to the "chicago_taxi_trips" dataset
dataset_ref = client.dataset("chicago_taxi_trips", project="bigquery-public-data")

# API request - fetch the dataset
dataset = client.get_dataset(dataset_ref)

# Construct a reference to the "taxi_trips" table table_ref = dataset_ref.table("taxi_trips")

# API request - fetch the table
table = client.get_table(table_ref)

# Preview the first five lines of the table
client.list_rows(table, max_results=5).to_dataframe()
 

Using Kaggle's public dataset BigQuery integration.
/opt/conda/lib/python3.7/site-packages/ipykernel_launcher.py:19: UserWarning: Cannot us
unique_key	ta


0	d7142baead61226e1f0d5fbb42053148d4ea1234	83509dee15087de780f4ceef090a6d37029553d45b1





1	c4b5ecbc1199c68bc7c7336502d51c7af3a6f6dd	d6e1a9e103336c396201abe9ceb00795fcd41e14cc




2	5122fd569680033efac6d8d1990fa60014f112b7	23d5d31d196f02492dee2d0a37f4f52cce790430221



3	556af535d64bc6460244a5bad92966fd5d85421f	442f4c9dd3dde549a82c2dc0ef65b85e54664aa28f5


import bq_helper
from bq_helper import BigQueryHelper
# https://www.kaggle.com/sohier/introduction-to-the-bq-helper-package chicago_taxi = bq_helper.BigQueryHelper(active_project="project-3",
dataset_name="chicago_taxi_trips")


Using Kaggle's public dataset BigQuery integration.


bq_assistant = BigQueryHelper("bigquery-public-data", "chicago_taxi_trips") bq_assistant.list_tables()

Using Kaggle's public dataset BigQuery integration. ['taxi_trips']


bq_assistant.head("taxi_trips", num_rows=3)

 

unique_key	ta


0	d7142baead61226e1f0d5fbb42053148d4ea1234	83509dee15087de780f4ceef090a6d37029553d45b1





1	c4b5ecbc1199c68bc7c7336502d51c7af3a6f6dd	d6e1a9e103336c396201abe9ceb00795fcd41e14cc

bq_assistant.table_schema("taxi_trips")
 

name	type	mode	description

def show_amount_of_data_scanned(query):
# dry_run lets us see how much data the query uses without running it dry_run_config = bigquery.QueryJobConfig(dry_run=True)
query_job = client.query(query, job_config=dry_run_config)
print('Data processed: {} GB'.format(round(query_job.total_bytes_processed / 10**9, 3)))


query1 = """SELECT
EXTRACT(DAYOFWEEK FROM trip_start_timestamp) AS day, MAX(fare) AS maximum_fare,
MIN(fare) AS minimum_fare, AVG(fare) AS avg_fare,
STDDEV(fare) AS std_dev_fare, COUNT(1) AS rides
FROM
`bigquery-public-data.chicago_taxi_trips.taxi_trips` WHERE
trip_seconds >= 600 GROUP BY
day
ORDER BY
day
"""

show_amount_of_data_scanned(query1)
response1 = chicago_taxi.query_to_pandas_safe(query1, max_gb_scanned=10) response1.head(10)

Data processed: 4.698 GB
/opt/conda/lib/python3.7/site-packages/google/cloud/bigquery/client.py:440: UserWa "Cannot create BigQuery Storage client, the dependency "

day	maximum_fare	minimum_fare	avg_fare	std_dev_fare	rides
0	1	9900.41	0.0	20.768151	46.441066	11048536
1	2	9900.42	0.0	21.558132	50.657212	11672687
2	3	9900.41	0.0	20.123958	48.772945	12510675
3	4	9999.99	0.0	20.118053	50.205228	13406682
4	5	9900.26	0.0	19.924076	48.205235	14512025
5	6	9900.49	0.0	18.785908	50.620425	15795729
6	7	9900.21	0.0	17.042741	47.044870	13574221


import matplotlib.pyplot as plt X = response1['avg_fare']
 
Y = response1['std_dev_fare'] plt.scatter(X,Y)

<matplotlib.collections.PathCollection at 0x7fc5444d1e90>
 


##asdfghjkl;

















##qwertyuiop


query2 = """SELECT
MAX(fare) AS maximum_fare, MIN(fare) AS minimum_fare,
FORMAT('%3.2f', AVG(fare)) AS avg_fare FROM
`bigquery-public-data.chicago_taxi_trips.taxi_trips` WHERE
trip_seconds >= 600 AND EXTRACT(YEAR FROM trip_end_timestamp) = 2021 """
show_amount_of_data_scanned(query2)
fare = client.query(query2).result().to_dataframe() fare
 

Data processed: 4.698 GB
/opt/conda/lib/python3.7/site-packages/google/cloud/bigquery/client.py:440: UserWa "Cannot create BigQuery Storage client, the dependency "
maximum_fare minimum_fare avg_fare
0	9900.25	0.0	27.29
query3 = """SELECT DISTINCT trip_miles, tips
FROM `bigquery-public-data.chicago_taxi_trips.taxi_trips` WHERE tips > 0 """

show_amount_of_data_scanned(query3)
tripsvstips = client.query(query3).result().to_dataframe() tripsvstips

Data processed: 3.139 GB

	trip_miles	tips
0	0.00	3.31
1	0.00	2.40
2	0.00	17.00
3	0.00	3.49
4	0.00	1.67
...	...	...
867686	37.17	10.00
867687	34.29	10.00
867688	66.65	10.00
867689	63.70	10.00
867690	41.99	10.00

867691 rows × 2 columns


# genertaing a sub group
tripsvstips_sub = tripsvstips[0:5000]

plt.figure(figsize=(13, 7))
plt.scatter(tripsvstips_sub["trip_miles"], tripsvstips_sub["tips"], s=5) plt.yscale('symlog')
plt.xscale('symlog')
plt.xlabel('miles traveled', fontsize=15) plt.ylabel('tips (USD)', fontsize=15)
plt.title('Trip miles vs Tips', fontsize=15)
 

Text(0.5, 1.0, 'Trip miles vs Tips')
 




##asdfghjkl;

















##qwertyuiop


query4 = """SELECT company, COUNT(*) count, AVG(tips) avg_tips FROM `bigquery-public-data.chicago_taxi_trips.taxi_trips`
WHERE tips>0 AND trip_miles>0 AND company IS NOT NULL GROUP BY company
ORDER BY count DESC LIMIT 10"""

show_amount_of_data_scanned(query4)
response4 = client.query(query4).result().to_dataframe() response4
 

Data processed: 6.868 GB

company	count	avg_tips
0	Taxi Affiliation Services	9669788	3.820970
1	Flash Cab	6214400	3.539800
2	Yellow Cab	3877946	3.198646
3	Chicago Carriage Cab Corp	3537433	3.922769
4	Dispatch Taxi Affiliation	3079220	3.378661
5	Choice Taxi Association	2882806	3.753596
6	Sun Taxi	2471739	4.103353
7	City Service	2439335	3.932554
8	Medallion Leasin	2071039	3.954155
9	Taxi Affiliation Service Yellow	1513190	3.958902


query5 = """SELECT DISTINCT trip_miles, tips
FROM `bigquery-public-data.chicago_taxi_trips.taxi_trips` WHERE tips>0 AND company LIKE 'Yellow Cab'
"""

show_amount_of_data_scanned(query5)
response5 = client.query(query5).result().to_dataframe() response5
 

Data processed: 6.868 GB
/opt/conda/lib/python3.7/site-packages/google/cloud/bigquery/client.py:440: UserWa "Cannot create BigQuery Storage client, the dependency "
trip_miles tips

# plotting query 5

response5_sub = response5 [:5000] plt.figure(figsize=(13, 7))
plt.scatter(response5_sub["trip_miles"], response5_sub["tips"], s=5) plt.yscale('symlog')
plt.xscale('symlog')
plt.xlabel('miles traveled', fontsize=15) plt.ylabel('tips (USD)', fontsize=15)
plt.title('Trip miles vs Tips for Yellow Cab', fontsize=15)

Text(0.5, 1.0, 'Trip miles vs Tips for Yellow Cab')































##asdfghjkl;
 







##qwertyuiop


# model estimtion

model = """CREATE OR REPLACE MODEL `chicago_taxi.chicago_taxi_tips_model_v1` OPTIONS(model_type='linear_reg') AS
SELECT DISTINCT
LOG(tips+1) AS label,
LOG(trip_miles+1) AS feature1 FROM
`bigquery-public-data.chicago_taxi_trips.taxi_trips` WHERE
trip_start_timestamp < '2016-01-01' AND tips>0 """

model_result = client.query(model)


query6 = """SELECT * FROM ML.TRAINING_INFO(MODEL `chicago_taxi.chicago_taxi_tips_model_v1`) """

response6 = client.query(query6) response6

<google.cloud.bigquery.job.QueryJob at 0x7fc54520f750>


# model estimtion

model2 = """CREATE OR REPLACE MODEL `chicago_taxi.chicago_taxi_tips_model_v2` OPTIONS(model_type='linear_reg') AS
SELECT DISTINCT
LOG(tips+1) AS label, Data Prediction
LOG(trip_seconds+1) AS feature1 FROM
`bigquery-public-data.chicago_taxi_trips.taxi_trips` WHERE
trip_start_timestamp < '2016-01-01' AND tips>0""" model_result = client.query(model2)


query7 = """SELECT * FROM ML.TRAINING_INFO(MODEL `chicago_taxi.chicago_taxi_tips_model_v2`)"" response7 = client.query(query7)
response7
 
<google.cloud.bigquery.job.QueryJob at 0x7fc5452435d0>































